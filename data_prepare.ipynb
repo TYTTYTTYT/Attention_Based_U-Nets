{
 "cells": [
  {
   "cell_type": "markdown",
   "source": [
    "## This file is used to download and process the Brain MRI dataset. Do not run it again if you don't need to modify the data set.\n",
    "## If you want to load the data set in your program, please use the `load_data` function in the utils.py file"
   ],
   "metadata": {}
  },
  {
   "cell_type": "code",
   "execution_count": 9,
   "source": [
    "import kaggle\r\n",
    "import numpy as np\r\n",
    "import torch\r\n",
    "from matplotlib import pyplot as plt\r\n",
    "import os\r\n",
    "from os.path import join\r\n",
    "from shutil import copyfile\r\n",
    "from PIL import Image\r\n",
    "from torch.utils.data import DataLoader\r\n",
    "import torch.nn as nn\r\n",
    "from collections import OrderedDict\r\n",
    "from tqdm import tqdm\r\n",
    "import torch.optim as optim\r\n",
    "import pickle\r\n",
    "from utils import load_data\r\n",
    "from config import DATA_HOME\r\n",
    "from config import DATA_SET\r\n",
    "\r\n",
    "device = torch.device(\"cpu\" if not torch.cuda.is_available() else 'cuda')\r\n",
    "\r\n",
    "# Initialize the directory to store sorted imgs and masks\r\n",
    "path = join(f'{DATA_HOME}', 'kaggle_3m')\r\n",
    "path_img = join(f'{DATA_HOME}', 'img')\r\n",
    "path_mask = join(f'{DATA_HOME}', 'mask')\r\n",
    "# The path on kaggle online dataset\r\n",
    "kaggle_path = 'mateuszbuda/lgg-mri-segmentation'\r\n",
    "\r\n",
    "# Create the path to store arranged imgs and masks\r\n",
    "os.makedirs(path_img, exist_ok=True)\r\n",
    "os.makedirs(path_mask, exist_ok=True)"
   ],
   "outputs": [],
   "metadata": {}
  },
  {
   "cell_type": "code",
   "execution_count": null,
   "source": [
    "# Download the dataset\r\n",
    "# Do not run this cell again, time-cosuming\r\n",
    "# You should setup your kaggle autnenticaion information first.\r\n",
    "kaggle.api.authenticate()\r\n",
    "kaggle.api.dataset_download_files(kaggle_path, path=DATA_HOME, unzip=True)"
   ],
   "outputs": [],
   "metadata": {}
  },
  {
   "cell_type": "code",
   "execution_count": 10,
   "source": [
    "# Arrange the directories in a convient manner\r\n",
    "patients = os.listdir(path)\r\n",
    "\r\n",
    "folds = []\r\n",
    "for patient in patients:\r\n",
    "    patient = os.path.join(path, patient)\r\n",
    "    if os.path.isdir(patient):\r\n",
    "        folds.append(patient)\r\n",
    "        \r\n",
    "all_images = []\r\n",
    "for fold in folds:\r\n",
    "    images = os.listdir(fold)\r\n",
    "    for i in range(len(images)):\r\n",
    "        images[i] = os.path.join(fold, images[i])\r\n",
    "    all_images = all_images + images\r\n",
    "    \r\n",
    "for img in all_images:\r\n",
    "    old_name = os.path.basename(img)\r\n",
    "    if 'mask' in img:\r\n",
    "        new_name = old_name[:-9] + old_name[-4:]\r\n",
    "        new_name = os.path.join(path_mask, new_name)\r\n",
    "    else:\r\n",
    "        new_name = os.path.join(path_img, old_name)\r\n",
    "    copyfile(img, new_name)"
   ],
   "outputs": [],
   "metadata": {}
  },
  {
   "cell_type": "code",
   "execution_count": 11,
   "source": [
    "# This cell load the data into X and Y as numpy arrays for training\r\n",
    "# Get the file pathes\r\n",
    "imgs = []\r\n",
    "masks = []\r\n",
    "for file in os.listdir(path_img):\r\n",
    "    imgs.append(os.path.join(path_img, file))\r\n",
    "for file in os.listdir(path_mask):\r\n",
    "    masks.append(os.path.join(path_mask, file))\r\n",
    "imgs.sort()\r\n",
    "masks.sort()\r\n",
    "\r\n",
    "for i in range(len(imgs)):\r\n",
    "    assert os.path.basename(imgs[i]) == os.path.basename(masks[i])\r\n",
    "\r\n",
    "# Read files into numpy array\r\n",
    "X = np.empty((len(imgs), 3, 256, 256), dtype='float32')\r\n",
    "Y = np.empty((len(masks), 1, 256, 256), dtype='float32')\r\n",
    "\r\n",
    "for i in range(len(imgs)):\r\n",
    "    X[i, :, :, :] = np.moveaxis(np.asarray(Image.open(imgs[i]), dtype='float32'), -1, 0) / 255\r\n",
    "for i in range(len(masks)):\r\n",
    "    Y[i, :, :, :] = np.asarray(Image.open(masks[i])).reshape(1, 256, 256) / 255\r\n",
    "    \r\n",
    "print(\"Shape of imgs: \", X.shape)\r\n",
    "print(\"Shape of masks: \", Y.shape)"
   ],
   "outputs": [
    {
     "output_type": "stream",
     "name": "stdout",
     "text": [
      "Shape of imgs:  (3929, 3, 256, 256)\n",
      "Shape of masks:  (3929, 1, 256, 256)\n"
     ]
    }
   ],
   "metadata": {}
  },
  {
   "cell_type": "code",
   "execution_count": 12,
   "source": [
    "data_set = list(zip(X, Y))\r\n",
    "with open(DATA_SET, 'wb') as f:\r\n",
    "    pickle.dump(data_set, f)"
   ],
   "outputs": [],
   "metadata": {}
  },
  {
   "cell_type": "code",
   "execution_count": 13,
   "source": [
    "data_set[0][0].shape"
   ],
   "outputs": [
    {
     "output_type": "execute_result",
     "data": {
      "text/plain": [
       "(3, 256, 256)"
      ]
     },
     "metadata": {},
     "execution_count": 13
    }
   ],
   "metadata": {}
  },
  {
   "cell_type": "code",
   "execution_count": 14,
   "source": [
    "type(data_set)"
   ],
   "outputs": [
    {
     "output_type": "execute_result",
     "data": {
      "text/plain": [
       "list"
      ]
     },
     "metadata": {},
     "execution_count": 14
    }
   ],
   "metadata": {}
  },
  {
   "cell_type": "code",
   "execution_count": null,
   "source": [],
   "outputs": [],
   "metadata": {}
  }
 ],
 "metadata": {
  "kernelspec": {
   "name": "python3",
   "display_name": "Python 3.9.6 64-bit ('NLP_Torch': conda)"
  },
  "language_info": {
   "codemirror_mode": {
    "name": "ipython",
    "version": 3
   },
   "file_extension": ".py",
   "mimetype": "text/x-python",
   "name": "python",
   "nbconvert_exporter": "python",
   "pygments_lexer": "ipython3",
   "version": "3.9.6"
  },
  "interpreter": {
   "hash": "4edc4e99cfb9df39f40190e4f3ad99d89e25d08ba887df7c1d044e0e7494a64e"
  }
 },
 "nbformat": 4,
 "nbformat_minor": 5
}