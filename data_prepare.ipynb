{
 "cells": [
  {
   "cell_type": "markdown",
   "source": [
    "## This file is used to download and process the Brain MRI dataset. Do not run it again if you don't need to modify the data set.\n",
    "## If you want to load the data set in your program, please use the `load_data` function in the utils.py file"
   ],
   "metadata": {}
  },
  {
   "cell_type": "code",
   "execution_count": 2,
   "source": [
    "import kaggle\n",
    "import numpy as np\n",
    "import torch\n",
    "from matplotlib import pyplot as plt\n",
    "import os\n",
    "from shutil import copyfile\n",
    "from PIL import Image\n",
    "from torch.utils.data import DataLoader\n",
    "import torch.nn as nn\n",
    "from collections import OrderedDict\n",
    "from tqdm import tqdm\n",
    "import torch.optim as optim\n",
    "import pickle\n",
    "from utils import load_data\n",
    "from config import DATA_HOME\n",
    "from config import DATA_SET\n",
    "\n",
    "device = torch.device(\"cpu\" if not torch.cuda.is_available() else 'cuda')\n",
    "\n",
    "# Initialize the directory to store sorted imgs and masks\n",
    "path = f'{DATA_HOME}/kaggle_3m'\n",
    "path_img = f'{DATA_HOME}/img'\n",
    "path_mask = f'{DATA_HOME}/mask'\n",
    "kaggle_path = 'mateuszbuda/lgg-mri-segmentation'"
   ],
   "outputs": [],
   "metadata": {}
  },
  {
   "cell_type": "code",
   "execution_count": 2,
   "source": [
    "# Download the dataset and arrange the directories in a convient manner\n",
    "# Do not run this cell again, time-cosuming\n",
    "# You should setup your kaggle autnenticaion information first.\n",
    "kaggle.api.authenticate()\n",
    "kaggle.api.dataset_download_files(kaggle_path, path=DATA_HOME, unzip=True)\n",
    "\n",
    "patients = os.listdir(path)\n",
    "\n",
    "folds = []\n",
    "for patient in patients:\n",
    "    patient = os.path.join(path, patient)\n",
    "    if os.path.isdir(patient):\n",
    "        folds.append(patient)\n",
    "        \n",
    "all_images = []\n",
    "for fold in folds:\n",
    "    images = os.listdir(fold)\n",
    "    for i in range(len(images)):\n",
    "        images[i] = os.path.join(fold, images[i])\n",
    "    all_images = all_images + images\n",
    "    \n",
    "for img in all_images:\n",
    "    old_name = os.path.basename(img)\n",
    "    if 'mask' in img:\n",
    "        new_name = old_name[:-9] + old_name[-4:]\n",
    "        new_name = os.path.join(path_mask, new_name)\n",
    "    else:\n",
    "        new_name = os.path.join(path_img, old_name)\n",
    "    copyfile(img, new_name)"
   ],
   "outputs": [
    {
     "output_type": "stream",
     "name": "stdout",
     "text": [
      "Warning: Your Kaggle API key is readable by other users on this system! To fix this, you can run 'chmod 600 /home/jupyter-mit/.kaggle/kaggle.json'\n"
     ]
    }
   ],
   "metadata": {}
  },
  {
   "cell_type": "code",
   "execution_count": 8,
   "source": [
    "# This cell load the data into X and Y as numpy arrays for training\n",
    "# Get the file pathes\n",
    "imgs = []\n",
    "masks = []\n",
    "for file in os.listdir(path_img):\n",
    "    imgs.append(os.path.join(path_img, file))\n",
    "for file in os.listdir(path_mask):\n",
    "    masks.append(os.path.join(path_mask, file))\n",
    "imgs.sort()\n",
    "masks.sort()\n",
    "\n",
    "for i in range(len(imgs)):\n",
    "    assert os.path.basename(imgs[i]) == os.path.basename(masks[i])\n",
    "\n",
    "# Read files into numpy array\n",
    "X = np.empty((len(imgs), 3, 256, 256), dtype='float32')\n",
    "Y = np.empty((len(masks), 1, 256, 256), dtype='float32')\n",
    "\n",
    "for i in range(len(imgs)):\n",
    "    X[i, :, :, :] = np.moveaxis(np.asarray(Image.open(imgs[i]), dtype='float32'), -1, 0) / 255\n",
    "for i in range(len(masks)):\n",
    "    Y[i, :, :, :] = np.asarray(Image.open(masks[i])).reshape(1, 256, 256) / 255\n",
    "    \n",
    "print(\"Shape of imgs: \", X.shape)\n",
    "print(\"Shape of masks: \", Y.shape)"
   ],
   "outputs": [
    {
     "output_type": "stream",
     "name": "stdout",
     "text": [
      "Shape of imgs:  (3929, 3, 256, 256)\n",
      "Shape of masks:  (3929, 1, 256, 256)\n"
     ]
    }
   ],
   "metadata": {}
  },
  {
   "cell_type": "code",
   "execution_count": 9,
   "source": [
    "data_set = list(zip(X, Y))\n",
    "with open(DATA_SET, 'wb') as f:\n",
    "    pickle.dump(data_set, f)\n"
   ],
   "outputs": [],
   "metadata": {}
  },
  {
   "cell_type": "code",
   "execution_count": 10,
   "source": [
    "data_set[0][0].shape"
   ],
   "outputs": [
    {
     "output_type": "execute_result",
     "data": {
      "text/plain": [
       "(3, 256, 256)"
      ]
     },
     "metadata": {},
     "execution_count": 10
    }
   ],
   "metadata": {}
  },
  {
   "cell_type": "code",
   "execution_count": 11,
   "source": [
    "type(data_set)"
   ],
   "outputs": [
    {
     "output_type": "execute_result",
     "data": {
      "text/plain": [
       "list"
      ]
     },
     "metadata": {},
     "execution_count": 11
    }
   ],
   "metadata": {}
  },
  {
   "cell_type": "code",
   "execution_count": null,
   "source": [],
   "outputs": [],
   "metadata": {}
  }
 ],
 "metadata": {
  "kernelspec": {
   "display_name": "Python [conda env:pytorch]",
   "language": "python",
   "name": "conda-env-pytorch-py"
  },
  "language_info": {
   "codemirror_mode": {
    "name": "ipython",
    "version": 3
   },
   "file_extension": ".py",
   "mimetype": "text/x-python",
   "name": "python",
   "nbconvert_exporter": "python",
   "pygments_lexer": "ipython3",
   "version": "3.9.5"
  }
 },
 "nbformat": 4,
 "nbformat_minor": 5
}