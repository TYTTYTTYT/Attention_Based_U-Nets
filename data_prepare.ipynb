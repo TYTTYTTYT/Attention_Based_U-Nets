{
 "cells": [
  {
   "cell_type": "markdown",
   "id": "3bbb3ef7",
   "metadata": {},
   "source": [
    "## This file is used to download and process the Brain MRI dataset. Do not run it again if you don't need to modify the data set.\n",
    "## If you want to load the data set in your program, please use the `load_data` function in the utils.py file"
   ]
  },
  {
   "cell_type": "code",
   "execution_count": 2,
   "id": "9c627093",
   "metadata": {},
   "outputs": [],
   "source": [
    "import kaggle\n",
    "import numpy as np\n",
    "import torch\n",
    "from matplotlib import pyplot as plt\n",
    "import os\n",
    "from shutil import copyfile\n",
    "from PIL import Image\n",
    "from torch.utils.data import DataLoader\n",
    "import torch.nn as nn\n",
    "from collections import OrderedDict\n",
    "from tqdm import tqdm\n",
    "import torch.optim as optim\n",
    "import pickle\n",
    "from utils import load_data\n",
    "from config import DATA_SET\n",
    "\n",
    "device = torch.device(\"cpu\" if not torch.cuda.is_available() else 'cuda')\n",
    "\n",
    "path = 'BrainMRI/kaggle_3m'\n",
    "path_img = 'BrainMRI/img'\n",
    "path_mask = 'BrainMRI/mask'"
   ]
  },
  {
   "cell_type": "code",
   "execution_count": 2,
   "id": "092ffb33",
   "metadata": {},
   "outputs": [
    {
     "name": "stdout",
     "output_type": "stream",
     "text": [
      "Warning: Your Kaggle API key is readable by other users on this system! To fix this, you can run 'chmod 600 /home/jupyter-mit/.kaggle/kaggle.json'\n"
     ]
    }
   ],
   "source": [
    "# Download the dataset and arrange the directories in a convient manner\n",
    "# Do not run this cell again, time-cosuming\n",
    "kaggle.api.authenticate()\n",
    "kaggle.api.dataset_download_files('mateuszbuda/lgg-mri-segmentation', path='BrainMRI', unzip=True)\n",
    "\n",
    "patients = os.listdir(path)\n",
    "\n",
    "folds = []\n",
    "for patient in patients:\n",
    "    patient = os.path.join(path, patient)\n",
    "    if os.path.isdir(patient):\n",
    "        folds.append(patient)\n",
    "        \n",
    "all_images = []\n",
    "for fold in folds:\n",
    "    images = os.listdir(fold)\n",
    "    for i in range(len(images)):\n",
    "        images[i] = os.path.join(fold, images[i])\n",
    "    all_images = all_images + images\n",
    "    \n",
    "for img in all_images:\n",
    "    old_name = os.path.basename(img)\n",
    "    if 'mask' in img:\n",
    "        new_name = old_name[:-9] + old_name[-4:]\n",
    "        new_name = os.path.join(path_mask, new_name)\n",
    "    else:\n",
    "        new_name = os.path.join(path_img, old_name)\n",
    "    copyfile(img, new_name)"
   ]
  },
  {
   "cell_type": "code",
   "execution_count": 8,
   "id": "a1d280e5",
   "metadata": {},
   "outputs": [
    {
     "name": "stdout",
     "output_type": "stream",
     "text": [
      "Shape of imgs:  (3929, 3, 256, 256)\n",
      "Shape of masks:  (3929, 1, 256, 256)\n"
     ]
    }
   ],
   "source": [
    "# This cell load the data into X and Y as numpy arrays for training\n",
    "# Get the file pathes\n",
    "imgs = []\n",
    "masks = []\n",
    "for file in os.listdir(path_img):\n",
    "    imgs.append(os.path.join(path_img, file))\n",
    "for file in os.listdir(path_mask):\n",
    "    masks.append(os.path.join(path_mask, file))\n",
    "imgs.sort()\n",
    "masks.sort()\n",
    "\n",
    "for i in range(len(imgs)):\n",
    "    assert os.path.basename(imgs[i]) == os.path.basename(masks[i])\n",
    "\n",
    "# Read files into numpy array\n",
    "X = np.empty((len(imgs), 3, 256, 256), dtype='float32')\n",
    "Y = np.empty((len(masks), 1, 256, 256), dtype='float32')\n",
    "\n",
    "for i in range(len(imgs)):\n",
    "    X[i, :, :, :] = np.moveaxis(np.asarray(Image.open(imgs[i]), dtype='float32'), -1, 0) / 255\n",
    "for i in range(len(masks)):\n",
    "    Y[i, :, :, :] = np.asarray(Image.open(masks[i])).reshape(1, 256, 256) / 255\n",
    "    \n",
    "print(\"Shape of imgs: \", X.shape)\n",
    "print(\"Shape of masks: \", Y.shape)"
   ]
  },
  {
   "cell_type": "code",
   "execution_count": 9,
   "id": "51d9a3e2",
   "metadata": {},
   "outputs": [],
   "source": [
    "data_set = list(zip(X, Y))\n",
    "with open(DATA_SET, 'wb') as f:\n",
    "    pickle.dump(data_set, f)\n"
   ]
  },
  {
   "cell_type": "code",
   "execution_count": 10,
   "id": "aea830fa",
   "metadata": {},
   "outputs": [
    {
     "data": {
      "text/plain": [
       "(3, 256, 256)"
      ]
     },
     "execution_count": 10,
     "metadata": {},
     "output_type": "execute_result"
    }
   ],
   "source": [
    "data_set[0][0].shape"
   ]
  },
  {
   "cell_type": "code",
   "execution_count": 11,
   "id": "6cabe7cc",
   "metadata": {},
   "outputs": [
    {
     "data": {
      "text/plain": [
       "list"
      ]
     },
     "execution_count": 11,
     "metadata": {},
     "output_type": "execute_result"
    }
   ],
   "source": [
    "type(data_set)"
   ]
  },
  {
   "cell_type": "code",
   "execution_count": null,
   "id": "da0b4537",
   "metadata": {},
   "outputs": [],
   "source": []
  }
 ],
 "metadata": {
  "kernelspec": {
   "display_name": "Python [conda env:pytorch]",
   "language": "python",
   "name": "conda-env-pytorch-py"
  },
  "language_info": {
   "codemirror_mode": {
    "name": "ipython",
    "version": 3
   },
   "file_extension": ".py",
   "mimetype": "text/x-python",
   "name": "python",
   "nbconvert_exporter": "python",
   "pygments_lexer": "ipython3",
   "version": "3.9.5"
  }
 },
 "nbformat": 4,
 "nbformat_minor": 5
}
